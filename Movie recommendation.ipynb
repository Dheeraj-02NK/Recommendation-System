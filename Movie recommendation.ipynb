{
 "cells": [
  {
   "cell_type": "markdown",
   "metadata": {},
   "source": [
    "#### A recommender system, or a recommendation system, is a subclass of information filtering system that seeks to predict the \"rating\" or \"preference\" a user would give to an item. They are primarily used in commercial applications. (source - Wikipedia)\n",
    "\n",
    "#### Mainly three types of recommendation systems in machine learning based on filtering are used to suggest product and services to the consumers.\n",
    "\n",
    "#### 1. Content Filtering #### 2. Collaborative Filtering #### 3. Hybrid Filtering\n",
    "\n",
    "   #### 1. Content Filtering:\n",
    "\n",
    "      In this algorithm, we try finding items look alike. Once we have item look like matrix,\n",
    "\n",
    "      we can easily recommend alike items to a customer, who has purchased any item from the store.\n",
    "\n",
    "   #### 2. Collaborative Filtering:\n",
    "\n",
    "      Here, we try to search for look alike customers and offer products based on what his/her lookalike has chosen.\n",
    "\n",
    "      This algorithm is very effective but takes a lot of time and resources."
   ]
  },
  {
   "cell_type": "code",
   "execution_count": 2,
   "metadata": {
    "_cell_guid": "b1076dfc-b9ad-4769-8c92-a6c4dae69d19",
    "_uuid": "8f2839f25d086af736a60e9eeb907d3b93b6e0e5",
    "execution": {
     "iopub.execute_input": "2023-12-09T14:08:26.143865Z",
     "iopub.status.busy": "2023-12-09T14:08:26.143208Z",
     "iopub.status.idle": "2023-12-09T14:08:26.166820Z",
     "shell.execute_reply": "2023-12-09T14:08:26.165006Z",
     "shell.execute_reply.started": "2023-12-09T14:08:26.143771Z"
    }
   },
   "outputs": [
    {
     "name": "stdout",
     "output_type": "stream",
     "text": [
      "/kaggle/input/movielens-20m-dataset/rating.csv\n",
      "/kaggle/input/movielens-20m-dataset/link.csv\n",
      "/kaggle/input/movielens-20m-dataset/genome_tags.csv\n",
      "/kaggle/input/movielens-20m-dataset/genome_scores.csv\n",
      "/kaggle/input/movielens-20m-dataset/tag.csv\n",
      "/kaggle/input/movielens-20m-dataset/movie.csv\n"
     ]
    }
   ],
   "source": [
    "# This Python 3 environment comes with many helpful analytics libraries installed\n",
    "# It is defined by the kaggle/python Docker image: https://github.com/kaggle/docker-python\n",
    "# For example, here's several helpful packages to load\n",
    "\n",
    "import numpy as np # linear algebra\n",
    "import pandas as pd # data processing, CSV file I/O (e.g. pd.read_csv)\n",
    "\n",
    "# Input data files are available in the read-only \"../input/\" directory\n",
    "# For example, running this (by clicking run or pressing Shift+Enter) will list all files under the input directory\n",
    "\n",
    "import os\n",
    "\n",
    "for dirname, _, filenames in os.walk('/kaggle/input'):\n",
    "    for filename in filenames:\n",
    "        print(os.path.join(dirname, filename))\n",
    "\n",
    "# You can write up to 5GB to the current directory (/kaggle/working/) that gets preserved as output when you create a version using \"Save & Run All\" \n",
    "# You can also write temporary files to /kaggle/temp/, but they won't be saved outside of the current session"
   ]
  },
  {
   "cell_type": "code",
   "execution_count": 3,
   "metadata": {
    "_cell_guid": "79c7e3d0-c299-4dcb-8224-4455121ee9b0",
    "_uuid": "d629ff2d2480ee46fbb7e2d37f6b5fab8052498a",
    "execution": {
     "iopub.execute_input": "2023-12-09T14:08:26.169496Z",
     "iopub.status.busy": "2023-12-09T14:08:26.168936Z",
     "iopub.status.idle": "2023-12-09T14:09:06.061794Z",
     "shell.execute_reply": "2023-12-09T14:09:06.060408Z",
     "shell.execute_reply.started": "2023-12-09T14:08:26.169457Z"
    }
   },
   "outputs": [],
   "source": [
    "tag=pd.read_csv('/kaggle/input/movielens-20m-dataset/tag.csv')\n",
    "rating=pd.read_csv('/kaggle/input/movielens-20m-dataset/rating.csv')\n",
    "movies=pd.read_csv('/kaggle/input/movielens-20m-dataset/movie.csv')\n",
    "genome_scores=pd.read_csv('/kaggle/input/movielens-20m-dataset/genome_scores.csv')\n",
    "link=pd.read_csv('/kaggle/input/movielens-20m-dataset/link.csv')\n",
    "genome_tag=pd.read_csv('/kaggle/input/movielens-20m-dataset/genome_tags.csv')"
   ]
  },
  {
   "cell_type": "code",
   "execution_count": 4,
   "metadata": {
    "execution": {
     "iopub.execute_input": "2023-12-09T14:09:06.066892Z",
     "iopub.status.busy": "2023-12-09T14:09:06.066391Z",
     "iopub.status.idle": "2023-12-09T14:09:06.092667Z",
     "shell.execute_reply": "2023-12-09T14:09:06.091519Z",
     "shell.execute_reply.started": "2023-12-09T14:09:06.066847Z"
    }
   },
   "outputs": [
    {
     "data": {
      "text/html": [
       "<div>\n",
       "<style scoped>\n",
       "    .dataframe tbody tr th:only-of-type {\n",
       "        vertical-align: middle;\n",
       "    }\n",
       "\n",
       "    .dataframe tbody tr th {\n",
       "        vertical-align: top;\n",
       "    }\n",
       "\n",
       "    .dataframe thead th {\n",
       "        text-align: right;\n",
       "    }\n",
       "</style>\n",
       "<table border=\"1\" class=\"dataframe\">\n",
       "  <thead>\n",
       "    <tr style=\"text-align: right;\">\n",
       "      <th></th>\n",
       "      <th>movieId</th>\n",
       "      <th>title</th>\n",
       "      <th>genres</th>\n",
       "    </tr>\n",
       "  </thead>\n",
       "  <tbody>\n",
       "    <tr>\n",
       "      <th>0</th>\n",
       "      <td>1</td>\n",
       "      <td>Toy Story (1995)</td>\n",
       "      <td>Adventure|Animation|Children|Comedy|Fantasy</td>\n",
       "    </tr>\n",
       "    <tr>\n",
       "      <th>1</th>\n",
       "      <td>2</td>\n",
       "      <td>Jumanji (1995)</td>\n",
       "      <td>Adventure|Children|Fantasy</td>\n",
       "    </tr>\n",
       "    <tr>\n",
       "      <th>2</th>\n",
       "      <td>3</td>\n",
       "      <td>Grumpier Old Men (1995)</td>\n",
       "      <td>Comedy|Romance</td>\n",
       "    </tr>\n",
       "    <tr>\n",
       "      <th>3</th>\n",
       "      <td>4</td>\n",
       "      <td>Waiting to Exhale (1995)</td>\n",
       "      <td>Comedy|Drama|Romance</td>\n",
       "    </tr>\n",
       "    <tr>\n",
       "      <th>4</th>\n",
       "      <td>5</td>\n",
       "      <td>Father of the Bride Part II (1995)</td>\n",
       "      <td>Comedy</td>\n",
       "    </tr>\n",
       "  </tbody>\n",
       "</table>\n",
       "</div>"
      ],
      "text/plain": [
       "   movieId                               title  \\\n",
       "0        1                    Toy Story (1995)   \n",
       "1        2                      Jumanji (1995)   \n",
       "2        3             Grumpier Old Men (1995)   \n",
       "3        4            Waiting to Exhale (1995)   \n",
       "4        5  Father of the Bride Part II (1995)   \n",
       "\n",
       "                                        genres  \n",
       "0  Adventure|Animation|Children|Comedy|Fantasy  \n",
       "1                   Adventure|Children|Fantasy  \n",
       "2                               Comedy|Romance  \n",
       "3                         Comedy|Drama|Romance  \n",
       "4                                       Comedy  "
      ]
     },
     "execution_count": 4,
     "metadata": {},
     "output_type": "execute_result"
    }
   ],
   "source": [
    "movies.head()"
   ]
  },
  {
   "cell_type": "code",
   "execution_count": 5,
   "metadata": {
    "execution": {
     "iopub.execute_input": "2023-12-09T14:09:06.096840Z",
     "iopub.status.busy": "2023-12-09T14:09:06.096420Z",
     "iopub.status.idle": "2023-12-09T14:09:06.111740Z",
     "shell.execute_reply": "2023-12-09T14:09:06.110218Z",
     "shell.execute_reply.started": "2023-12-09T14:09:06.096801Z"
    }
   },
   "outputs": [
    {
     "data": {
      "text/html": [
       "<div>\n",
       "<style scoped>\n",
       "    .dataframe tbody tr th:only-of-type {\n",
       "        vertical-align: middle;\n",
       "    }\n",
       "\n",
       "    .dataframe tbody tr th {\n",
       "        vertical-align: top;\n",
       "    }\n",
       "\n",
       "    .dataframe thead th {\n",
       "        text-align: right;\n",
       "    }\n",
       "</style>\n",
       "<table border=\"1\" class=\"dataframe\">\n",
       "  <thead>\n",
       "    <tr style=\"text-align: right;\">\n",
       "      <th></th>\n",
       "      <th>movieId</th>\n",
       "      <th>imdbId</th>\n",
       "      <th>tmdbId</th>\n",
       "    </tr>\n",
       "  </thead>\n",
       "  <tbody>\n",
       "    <tr>\n",
       "      <th>0</th>\n",
       "      <td>1</td>\n",
       "      <td>114709</td>\n",
       "      <td>862.0</td>\n",
       "    </tr>\n",
       "    <tr>\n",
       "      <th>1</th>\n",
       "      <td>2</td>\n",
       "      <td>113497</td>\n",
       "      <td>8844.0</td>\n",
       "    </tr>\n",
       "    <tr>\n",
       "      <th>2</th>\n",
       "      <td>3</td>\n",
       "      <td>113228</td>\n",
       "      <td>15602.0</td>\n",
       "    </tr>\n",
       "    <tr>\n",
       "      <th>3</th>\n",
       "      <td>4</td>\n",
       "      <td>114885</td>\n",
       "      <td>31357.0</td>\n",
       "    </tr>\n",
       "    <tr>\n",
       "      <th>4</th>\n",
       "      <td>5</td>\n",
       "      <td>113041</td>\n",
       "      <td>11862.0</td>\n",
       "    </tr>\n",
       "  </tbody>\n",
       "</table>\n",
       "</div>"
      ],
      "text/plain": [
       "   movieId  imdbId   tmdbId\n",
       "0        1  114709    862.0\n",
       "1        2  113497   8844.0\n",
       "2        3  113228  15602.0\n",
       "3        4  114885  31357.0\n",
       "4        5  113041  11862.0"
      ]
     },
     "execution_count": 5,
     "metadata": {},
     "output_type": "execute_result"
    }
   ],
   "source": [
    "link.head()"
   ]
  },
  {
   "cell_type": "code",
   "execution_count": 6,
   "metadata": {
    "execution": {
     "iopub.execute_input": "2023-12-09T14:09:06.113878Z",
     "iopub.status.busy": "2023-12-09T14:09:06.113505Z",
     "iopub.status.idle": "2023-12-09T14:09:06.131844Z",
     "shell.execute_reply": "2023-12-09T14:09:06.130173Z",
     "shell.execute_reply.started": "2023-12-09T14:09:06.113845Z"
    }
   },
   "outputs": [
    {
     "data": {
      "text/html": [
       "<div>\n",
       "<style scoped>\n",
       "    .dataframe tbody tr th:only-of-type {\n",
       "        vertical-align: middle;\n",
       "    }\n",
       "\n",
       "    .dataframe tbody tr th {\n",
       "        vertical-align: top;\n",
       "    }\n",
       "\n",
       "    .dataframe thead th {\n",
       "        text-align: right;\n",
       "    }\n",
       "</style>\n",
       "<table border=\"1\" class=\"dataframe\">\n",
       "  <thead>\n",
       "    <tr style=\"text-align: right;\">\n",
       "      <th></th>\n",
       "      <th>userId</th>\n",
       "      <th>movieId</th>\n",
       "      <th>rating</th>\n",
       "      <th>timestamp</th>\n",
       "    </tr>\n",
       "  </thead>\n",
       "  <tbody>\n",
       "    <tr>\n",
       "      <th>0</th>\n",
       "      <td>1</td>\n",
       "      <td>2</td>\n",
       "      <td>3.5</td>\n",
       "      <td>2005-04-02 23:53:47</td>\n",
       "    </tr>\n",
       "    <tr>\n",
       "      <th>1</th>\n",
       "      <td>1</td>\n",
       "      <td>29</td>\n",
       "      <td>3.5</td>\n",
       "      <td>2005-04-02 23:31:16</td>\n",
       "    </tr>\n",
       "    <tr>\n",
       "      <th>2</th>\n",
       "      <td>1</td>\n",
       "      <td>32</td>\n",
       "      <td>3.5</td>\n",
       "      <td>2005-04-02 23:33:39</td>\n",
       "    </tr>\n",
       "    <tr>\n",
       "      <th>3</th>\n",
       "      <td>1</td>\n",
       "      <td>47</td>\n",
       "      <td>3.5</td>\n",
       "      <td>2005-04-02 23:32:07</td>\n",
       "    </tr>\n",
       "    <tr>\n",
       "      <th>4</th>\n",
       "      <td>1</td>\n",
       "      <td>50</td>\n",
       "      <td>3.5</td>\n",
       "      <td>2005-04-02 23:29:40</td>\n",
       "    </tr>\n",
       "  </tbody>\n",
       "</table>\n",
       "</div>"
      ],
      "text/plain": [
       "   userId  movieId  rating            timestamp\n",
       "0       1        2     3.5  2005-04-02 23:53:47\n",
       "1       1       29     3.5  2005-04-02 23:31:16\n",
       "2       1       32     3.5  2005-04-02 23:33:39\n",
       "3       1       47     3.5  2005-04-02 23:32:07\n",
       "4       1       50     3.5  2005-04-02 23:29:40"
      ]
     },
     "execution_count": 6,
     "metadata": {},
     "output_type": "execute_result"
    }
   ],
   "source": [
    "rating.head()"
   ]
  },
  {
   "cell_type": "code",
   "execution_count": 7,
   "metadata": {
    "execution": {
     "iopub.execute_input": "2023-12-09T14:09:06.133844Z",
     "iopub.status.busy": "2023-12-09T14:09:06.133467Z",
     "iopub.status.idle": "2023-12-09T14:09:06.141414Z",
     "shell.execute_reply": "2023-12-09T14:09:06.140239Z",
     "shell.execute_reply.started": "2023-12-09T14:09:06.133810Z"
    }
   },
   "outputs": [
    {
     "data": {
      "text/plain": [
       "(20000263, 4)"
      ]
     },
     "execution_count": 7,
     "metadata": {},
     "output_type": "execute_result"
    }
   ],
   "source": [
    "rating.shape"
   ]
  },
  {
   "cell_type": "code",
   "execution_count": 8,
   "metadata": {
    "execution": {
     "iopub.execute_input": "2023-12-09T14:09:06.143491Z",
     "iopub.status.busy": "2023-12-09T14:09:06.143095Z",
     "iopub.status.idle": "2023-12-09T14:09:06.660952Z",
     "shell.execute_reply": "2023-12-09T14:09:06.659673Z",
     "shell.execute_reply.started": "2023-12-09T14:09:06.143454Z"
    }
   },
   "outputs": [
    {
     "data": {
      "text/plain": [
       "(138493,)"
      ]
     },
     "execution_count": 8,
     "metadata": {},
     "output_type": "execute_result"
    }
   ],
   "source": [
    "rating['userId'].value_counts().shape ## unique users"
   ]
  },
  {
   "cell_type": "code",
   "execution_count": 10,
   "metadata": {
    "execution": {
     "iopub.execute_input": "2023-12-09T14:09:07.183649Z",
     "iopub.status.busy": "2023-12-09T14:09:07.183133Z",
     "iopub.status.idle": "2023-12-09T14:09:07.695936Z",
     "shell.execute_reply": "2023-12-09T14:09:07.694202Z",
     "shell.execute_reply.started": "2023-12-09T14:09:07.183596Z"
    }
   },
   "outputs": [],
   "source": [
    "x=rating['userId'].value_counts()>500"
   ]
  },
  {
   "cell_type": "code",
   "execution_count": 11,
   "metadata": {
    "execution": {
     "iopub.execute_input": "2023-12-09T14:09:07.697696Z",
     "iopub.status.busy": "2023-12-09T14:09:07.697337Z",
     "iopub.status.idle": "2023-12-09T14:09:07.706339Z",
     "shell.execute_reply": "2023-12-09T14:09:07.703578Z",
     "shell.execute_reply.started": "2023-12-09T14:09:07.697662Z"
    }
   },
   "outputs": [],
   "source": [
    "y = x[x].index"
   ]
  },
  {
   "cell_type": "code",
   "execution_count": 12,
   "metadata": {
    "execution": {
     "iopub.execute_input": "2023-12-09T14:09:07.709215Z",
     "iopub.status.busy": "2023-12-09T14:09:07.708678Z",
     "iopub.status.idle": "2023-12-09T14:09:07.719772Z",
     "shell.execute_reply": "2023-12-09T14:09:07.718433Z",
     "shell.execute_reply.started": "2023-12-09T14:09:07.709159Z"
    }
   },
   "outputs": [
    {
     "data": {
      "text/plain": [
       "(7441,)"
      ]
     },
     "execution_count": 12,
     "metadata": {},
     "output_type": "execute_result"
    }
   ],
   "source": [
    "y.shape"
   ]
  },
  {
   "cell_type": "code",
   "execution_count": 13,
   "metadata": {
    "execution": {
     "iopub.execute_input": "2023-12-09T14:09:07.726441Z",
     "iopub.status.busy": "2023-12-09T14:09:07.726018Z",
     "iopub.status.idle": "2023-12-09T14:09:09.882430Z",
     "shell.execute_reply": "2023-12-09T14:09:09.880850Z",
     "shell.execute_reply.started": "2023-12-09T14:09:07.726404Z"
    }
   },
   "outputs": [],
   "source": [
    "rating=rating[rating['userId'].isin(y)]"
   ]
  },
  {
   "cell_type": "code",
   "execution_count": 14,
   "metadata": {
    "execution": {
     "iopub.execute_input": "2023-12-09T14:09:09.885167Z",
     "iopub.status.busy": "2023-12-09T14:09:09.884758Z",
     "iopub.status.idle": "2023-12-09T14:09:09.894514Z",
     "shell.execute_reply": "2023-12-09T14:09:09.892962Z",
     "shell.execute_reply.started": "2023-12-09T14:09:09.885130Z"
    }
   },
   "outputs": [
    {
     "data": {
      "text/plain": [
       "(6554416, 4)"
      ]
     },
     "execution_count": 14,
     "metadata": {},
     "output_type": "execute_result"
    }
   ],
   "source": [
    "rating.shape"
   ]
  },
  {
   "cell_type": "code",
   "execution_count": 15,
   "metadata": {
    "execution": {
     "iopub.execute_input": "2023-12-09T14:09:09.896990Z",
     "iopub.status.busy": "2023-12-09T14:09:09.896557Z",
     "iopub.status.idle": "2023-12-09T14:09:12.998811Z",
     "shell.execute_reply": "2023-12-09T14:09:12.997211Z",
     "shell.execute_reply.started": "2023-12-09T14:09:09.896933Z"
    }
   },
   "outputs": [],
   "source": [
    "movie_details=movies.merge(rating,on='movieId')"
   ]
  },
  {
   "cell_type": "code",
   "execution_count": 16,
   "metadata": {
    "execution": {
     "iopub.execute_input": "2023-12-09T14:09:13.000965Z",
     "iopub.status.busy": "2023-12-09T14:09:13.000571Z",
     "iopub.status.idle": "2023-12-09T14:09:13.021612Z",
     "shell.execute_reply": "2023-12-09T14:09:13.020035Z",
     "shell.execute_reply.started": "2023-12-09T14:09:13.000928Z"
    }
   },
   "outputs": [
    {
     "data": {
      "text/html": [
       "<div>\n",
       "<style scoped>\n",
       "    .dataframe tbody tr th:only-of-type {\n",
       "        vertical-align: middle;\n",
       "    }\n",
       "\n",
       "    .dataframe tbody tr th {\n",
       "        vertical-align: top;\n",
       "    }\n",
       "\n",
       "    .dataframe thead th {\n",
       "        text-align: right;\n",
       "    }\n",
       "</style>\n",
       "<table border=\"1\" class=\"dataframe\">\n",
       "  <thead>\n",
       "    <tr style=\"text-align: right;\">\n",
       "      <th></th>\n",
       "      <th>movieId</th>\n",
       "      <th>title</th>\n",
       "      <th>genres</th>\n",
       "      <th>userId</th>\n",
       "      <th>rating</th>\n",
       "      <th>timestamp</th>\n",
       "    </tr>\n",
       "  </thead>\n",
       "  <tbody>\n",
       "    <tr>\n",
       "      <th>0</th>\n",
       "      <td>1</td>\n",
       "      <td>Toy Story (1995)</td>\n",
       "      <td>Adventure|Animation|Children|Comedy|Fantasy</td>\n",
       "      <td>11</td>\n",
       "      <td>4.5</td>\n",
       "      <td>2009-01-02 01:13:41</td>\n",
       "    </tr>\n",
       "    <tr>\n",
       "      <th>1</th>\n",
       "      <td>1</td>\n",
       "      <td>Toy Story (1995)</td>\n",
       "      <td>Adventure|Animation|Children|Comedy|Fantasy</td>\n",
       "      <td>24</td>\n",
       "      <td>4.0</td>\n",
       "      <td>2001-07-04 07:02:29</td>\n",
       "    </tr>\n",
       "    <tr>\n",
       "      <th>2</th>\n",
       "      <td>1</td>\n",
       "      <td>Toy Story (1995)</td>\n",
       "      <td>Adventure|Animation|Children|Comedy|Fantasy</td>\n",
       "      <td>54</td>\n",
       "      <td>4.0</td>\n",
       "      <td>2000-11-21 21:00:21</td>\n",
       "    </tr>\n",
       "    <tr>\n",
       "      <th>3</th>\n",
       "      <td>1</td>\n",
       "      <td>Toy Story (1995)</td>\n",
       "      <td>Adventure|Animation|Children|Comedy|Fantasy</td>\n",
       "      <td>58</td>\n",
       "      <td>5.0</td>\n",
       "      <td>2006-04-03 10:00:08</td>\n",
       "    </tr>\n",
       "    <tr>\n",
       "      <th>4</th>\n",
       "      <td>1</td>\n",
       "      <td>Toy Story (1995)</td>\n",
       "      <td>Adventure|Animation|Children|Comedy|Fantasy</td>\n",
       "      <td>91</td>\n",
       "      <td>4.0</td>\n",
       "      <td>2005-03-22 22:46:02</td>\n",
       "    </tr>\n",
       "  </tbody>\n",
       "</table>\n",
       "</div>"
      ],
      "text/plain": [
       "   movieId             title                                       genres  \\\n",
       "0        1  Toy Story (1995)  Adventure|Animation|Children|Comedy|Fantasy   \n",
       "1        1  Toy Story (1995)  Adventure|Animation|Children|Comedy|Fantasy   \n",
       "2        1  Toy Story (1995)  Adventure|Animation|Children|Comedy|Fantasy   \n",
       "3        1  Toy Story (1995)  Adventure|Animation|Children|Comedy|Fantasy   \n",
       "4        1  Toy Story (1995)  Adventure|Animation|Children|Comedy|Fantasy   \n",
       "\n",
       "   userId  rating            timestamp  \n",
       "0      11     4.5  2009-01-02 01:13:41  \n",
       "1      24     4.0  2001-07-04 07:02:29  \n",
       "2      54     4.0  2000-11-21 21:00:21  \n",
       "3      58     5.0  2006-04-03 10:00:08  \n",
       "4      91     4.0  2005-03-22 22:46:02  "
      ]
     },
     "execution_count": 16,
     "metadata": {},
     "output_type": "execute_result"
    }
   ],
   "source": [
    "movie_details.head()"
   ]
  },
  {
   "cell_type": "code",
   "execution_count": 17,
   "metadata": {
    "execution": {
     "iopub.execute_input": "2023-12-09T14:09:13.024450Z",
     "iopub.status.busy": "2023-12-09T14:09:13.023923Z",
     "iopub.status.idle": "2023-12-09T14:09:13.036541Z",
     "shell.execute_reply": "2023-12-09T14:09:13.034713Z",
     "shell.execute_reply.started": "2023-12-09T14:09:13.024397Z"
    }
   },
   "outputs": [
    {
     "data": {
      "text/plain": [
       "(6554416, 6)"
      ]
     },
     "execution_count": 17,
     "metadata": {},
     "output_type": "execute_result"
    }
   ],
   "source": [
    "movie_details.shape"
   ]
  },
  {
   "cell_type": "code",
   "execution_count": 18,
   "metadata": {
    "execution": {
     "iopub.execute_input": "2023-12-09T14:09:13.039256Z",
     "iopub.status.busy": "2023-12-09T14:09:13.038853Z",
     "iopub.status.idle": "2023-12-09T14:09:15.063877Z",
     "shell.execute_reply": "2023-12-09T14:09:15.062385Z",
     "shell.execute_reply.started": "2023-12-09T14:09:13.039217Z"
    }
   },
   "outputs": [],
   "source": [
    "movie_details.drop(columns=['timestamp'],inplace=True)"
   ]
  },
  {
   "cell_type": "code",
   "execution_count": 19,
   "metadata": {
    "execution": {
     "iopub.execute_input": "2023-12-09T14:09:15.066054Z",
     "iopub.status.busy": "2023-12-09T14:09:15.065679Z",
     "iopub.status.idle": "2023-12-09T14:09:15.073461Z",
     "shell.execute_reply": "2023-12-09T14:09:15.072109Z",
     "shell.execute_reply.started": "2023-12-09T14:09:15.066019Z"
    }
   },
   "outputs": [
    {
     "data": {
      "text/plain": [
       "(6554416, 5)"
      ]
     },
     "execution_count": 19,
     "metadata": {},
     "output_type": "execute_result"
    }
   ],
   "source": [
    "movie_details.shape"
   ]
  },
  {
   "cell_type": "code",
   "execution_count": 20,
   "metadata": {
    "execution": {
     "iopub.execute_input": "2023-12-09T14:09:15.076683Z",
     "iopub.status.busy": "2023-12-09T14:09:15.076038Z",
     "iopub.status.idle": "2023-12-09T14:09:15.095382Z",
     "shell.execute_reply": "2023-12-09T14:09:15.093907Z",
     "shell.execute_reply.started": "2023-12-09T14:09:15.076628Z"
    }
   },
   "outputs": [
    {
     "data": {
      "text/html": [
       "<div>\n",
       "<style scoped>\n",
       "    .dataframe tbody tr th:only-of-type {\n",
       "        vertical-align: middle;\n",
       "    }\n",
       "\n",
       "    .dataframe tbody tr th {\n",
       "        vertical-align: top;\n",
       "    }\n",
       "\n",
       "    .dataframe thead th {\n",
       "        text-align: right;\n",
       "    }\n",
       "</style>\n",
       "<table border=\"1\" class=\"dataframe\">\n",
       "  <thead>\n",
       "    <tr style=\"text-align: right;\">\n",
       "      <th></th>\n",
       "      <th>movieId</th>\n",
       "      <th>title</th>\n",
       "      <th>genres</th>\n",
       "      <th>userId</th>\n",
       "      <th>rating</th>\n",
       "    </tr>\n",
       "  </thead>\n",
       "  <tbody>\n",
       "    <tr>\n",
       "      <th>0</th>\n",
       "      <td>1</td>\n",
       "      <td>Toy Story (1995)</td>\n",
       "      <td>Adventure|Animation|Children|Comedy|Fantasy</td>\n",
       "      <td>11</td>\n",
       "      <td>4.5</td>\n",
       "    </tr>\n",
       "    <tr>\n",
       "      <th>1</th>\n",
       "      <td>1</td>\n",
       "      <td>Toy Story (1995)</td>\n",
       "      <td>Adventure|Animation|Children|Comedy|Fantasy</td>\n",
       "      <td>24</td>\n",
       "      <td>4.0</td>\n",
       "    </tr>\n",
       "    <tr>\n",
       "      <th>2</th>\n",
       "      <td>1</td>\n",
       "      <td>Toy Story (1995)</td>\n",
       "      <td>Adventure|Animation|Children|Comedy|Fantasy</td>\n",
       "      <td>54</td>\n",
       "      <td>4.0</td>\n",
       "    </tr>\n",
       "    <tr>\n",
       "      <th>3</th>\n",
       "      <td>1</td>\n",
       "      <td>Toy Story (1995)</td>\n",
       "      <td>Adventure|Animation|Children|Comedy|Fantasy</td>\n",
       "      <td>58</td>\n",
       "      <td>5.0</td>\n",
       "    </tr>\n",
       "    <tr>\n",
       "      <th>4</th>\n",
       "      <td>1</td>\n",
       "      <td>Toy Story (1995)</td>\n",
       "      <td>Adventure|Animation|Children|Comedy|Fantasy</td>\n",
       "      <td>91</td>\n",
       "      <td>4.0</td>\n",
       "    </tr>\n",
       "  </tbody>\n",
       "</table>\n",
       "</div>"
      ],
      "text/plain": [
       "   movieId             title                                       genres  \\\n",
       "0        1  Toy Story (1995)  Adventure|Animation|Children|Comedy|Fantasy   \n",
       "1        1  Toy Story (1995)  Adventure|Animation|Children|Comedy|Fantasy   \n",
       "2        1  Toy Story (1995)  Adventure|Animation|Children|Comedy|Fantasy   \n",
       "3        1  Toy Story (1995)  Adventure|Animation|Children|Comedy|Fantasy   \n",
       "4        1  Toy Story (1995)  Adventure|Animation|Children|Comedy|Fantasy   \n",
       "\n",
       "   userId  rating  \n",
       "0      11     4.5  \n",
       "1      24     4.0  \n",
       "2      54     4.0  \n",
       "3      58     5.0  \n",
       "4      91     4.0  "
      ]
     },
     "execution_count": 20,
     "metadata": {},
     "output_type": "execute_result"
    }
   ],
   "source": [
    "movie_details.head()"
   ]
  },
  {
   "cell_type": "code",
   "execution_count": 21,
   "metadata": {
    "execution": {
     "iopub.execute_input": "2023-12-09T14:09:15.100153Z",
     "iopub.status.busy": "2023-12-09T14:09:15.099744Z",
     "iopub.status.idle": "2023-12-09T14:09:16.092549Z",
     "shell.execute_reply": "2023-12-09T14:09:16.090967Z",
     "shell.execute_reply.started": "2023-12-09T14:09:15.100114Z"
    }
   },
   "outputs": [],
   "source": [
    "number_rating = movie_details.groupby('title')['rating'].count().reset_index()"
   ]
  },
  {
   "cell_type": "code",
   "execution_count": 22,
   "metadata": {
    "execution": {
     "iopub.execute_input": "2023-12-09T14:09:16.095038Z",
     "iopub.status.busy": "2023-12-09T14:09:16.094550Z",
     "iopub.status.idle": "2023-12-09T14:09:16.104778Z",
     "shell.execute_reply": "2023-12-09T14:09:16.103198Z",
     "shell.execute_reply.started": "2023-12-09T14:09:16.094988Z"
    }
   },
   "outputs": [],
   "source": [
    "number_rating.rename(columns={'rating':'number of rating'},inplace=True)"
   ]
  },
  {
   "cell_type": "code",
   "execution_count": 23,
   "metadata": {
    "execution": {
     "iopub.execute_input": "2023-12-09T14:09:16.107184Z",
     "iopub.status.busy": "2023-12-09T14:09:16.106700Z",
     "iopub.status.idle": "2023-12-09T14:09:16.126574Z",
     "shell.execute_reply": "2023-12-09T14:09:16.125232Z",
     "shell.execute_reply.started": "2023-12-09T14:09:16.107126Z"
    }
   },
   "outputs": [
    {
     "data": {
      "text/html": [
       "<div>\n",
       "<style scoped>\n",
       "    .dataframe tbody tr th:only-of-type {\n",
       "        vertical-align: middle;\n",
       "    }\n",
       "\n",
       "    .dataframe tbody tr th {\n",
       "        vertical-align: top;\n",
       "    }\n",
       "\n",
       "    .dataframe thead th {\n",
       "        text-align: right;\n",
       "    }\n",
       "</style>\n",
       "<table border=\"1\" class=\"dataframe\">\n",
       "  <thead>\n",
       "    <tr style=\"text-align: right;\">\n",
       "      <th></th>\n",
       "      <th>title</th>\n",
       "      <th>number of rating</th>\n",
       "    </tr>\n",
       "  </thead>\n",
       "  <tbody>\n",
       "    <tr>\n",
       "      <th>0</th>\n",
       "      <td>#chicagoGirl: The Social Network Takes on a Di...</td>\n",
       "      <td>2</td>\n",
       "    </tr>\n",
       "    <tr>\n",
       "      <th>1</th>\n",
       "      <td>$ (Dollars) (1971)</td>\n",
       "      <td>7</td>\n",
       "    </tr>\n",
       "    <tr>\n",
       "      <th>2</th>\n",
       "      <td>$5 a Day (2008)</td>\n",
       "      <td>10</td>\n",
       "    </tr>\n",
       "    <tr>\n",
       "      <th>3</th>\n",
       "      <td>$9.99 (2008)</td>\n",
       "      <td>17</td>\n",
       "    </tr>\n",
       "    <tr>\n",
       "      <th>4</th>\n",
       "      <td>$ellebrity (Sellebrity) (2012)</td>\n",
       "      <td>1</td>\n",
       "    </tr>\n",
       "  </tbody>\n",
       "</table>\n",
       "</div>"
      ],
      "text/plain": [
       "                                               title  number of rating\n",
       "0  #chicagoGirl: The Social Network Takes on a Di...                 2\n",
       "1                                 $ (Dollars) (1971)                 7\n",
       "2                                    $5 a Day (2008)                10\n",
       "3                                       $9.99 (2008)                17\n",
       "4                     $ellebrity (Sellebrity) (2012)                 1"
      ]
     },
     "execution_count": 23,
     "metadata": {},
     "output_type": "execute_result"
    }
   ],
   "source": [
    "number_rating.head()"
   ]
  },
  {
   "cell_type": "code",
   "execution_count": 24,
   "metadata": {
    "execution": {
     "iopub.execute_input": "2023-12-09T14:09:16.128766Z",
     "iopub.status.busy": "2023-12-09T14:09:16.128363Z",
     "iopub.status.idle": "2023-12-09T14:09:17.883414Z",
     "shell.execute_reply": "2023-12-09T14:09:17.881851Z",
     "shell.execute_reply.started": "2023-12-09T14:09:16.128723Z"
    }
   },
   "outputs": [],
   "source": [
    "df=movie_details.merge(number_rating,on='title')"
   ]
  },
  {
   "cell_type": "code",
   "execution_count": 25,
   "metadata": {
    "execution": {
     "iopub.execute_input": "2023-12-09T14:09:17.886209Z",
     "iopub.status.busy": "2023-12-09T14:09:17.885690Z",
     "iopub.status.idle": "2023-12-09T14:09:17.894930Z",
     "shell.execute_reply": "2023-12-09T14:09:17.893387Z",
     "shell.execute_reply.started": "2023-12-09T14:09:17.886157Z"
    }
   },
   "outputs": [
    {
     "data": {
      "text/plain": [
       "(6554416, 6)"
      ]
     },
     "execution_count": 25,
     "metadata": {},
     "output_type": "execute_result"
    }
   ],
   "source": [
    "df.shape"
   ]
  },
  {
   "cell_type": "code",
   "execution_count": 26,
   "metadata": {
    "execution": {
     "iopub.execute_input": "2023-12-09T14:09:17.897601Z",
     "iopub.status.busy": "2023-12-09T14:09:17.897016Z",
     "iopub.status.idle": "2023-12-09T14:09:17.917131Z",
     "shell.execute_reply": "2023-12-09T14:09:17.915744Z",
     "shell.execute_reply.started": "2023-12-09T14:09:17.897558Z"
    }
   },
   "outputs": [
    {
     "data": {
      "text/html": [
       "<div>\n",
       "<style scoped>\n",
       "    .dataframe tbody tr th:only-of-type {\n",
       "        vertical-align: middle;\n",
       "    }\n",
       "\n",
       "    .dataframe tbody tr th {\n",
       "        vertical-align: top;\n",
       "    }\n",
       "\n",
       "    .dataframe thead th {\n",
       "        text-align: right;\n",
       "    }\n",
       "</style>\n",
       "<table border=\"1\" class=\"dataframe\">\n",
       "  <thead>\n",
       "    <tr style=\"text-align: right;\">\n",
       "      <th></th>\n",
       "      <th>movieId</th>\n",
       "      <th>title</th>\n",
       "      <th>genres</th>\n",
       "      <th>userId</th>\n",
       "      <th>rating</th>\n",
       "      <th>number of rating</th>\n",
       "    </tr>\n",
       "  </thead>\n",
       "  <tbody>\n",
       "    <tr>\n",
       "      <th>0</th>\n",
       "      <td>1</td>\n",
       "      <td>Toy Story (1995)</td>\n",
       "      <td>Adventure|Animation|Children|Comedy|Fantasy</td>\n",
       "      <td>11</td>\n",
       "      <td>4.5</td>\n",
       "      <td>6303</td>\n",
       "    </tr>\n",
       "    <tr>\n",
       "      <th>1</th>\n",
       "      <td>1</td>\n",
       "      <td>Toy Story (1995)</td>\n",
       "      <td>Adventure|Animation|Children|Comedy|Fantasy</td>\n",
       "      <td>24</td>\n",
       "      <td>4.0</td>\n",
       "      <td>6303</td>\n",
       "    </tr>\n",
       "    <tr>\n",
       "      <th>2</th>\n",
       "      <td>1</td>\n",
       "      <td>Toy Story (1995)</td>\n",
       "      <td>Adventure|Animation|Children|Comedy|Fantasy</td>\n",
       "      <td>54</td>\n",
       "      <td>4.0</td>\n",
       "      <td>6303</td>\n",
       "    </tr>\n",
       "    <tr>\n",
       "      <th>3</th>\n",
       "      <td>1</td>\n",
       "      <td>Toy Story (1995)</td>\n",
       "      <td>Adventure|Animation|Children|Comedy|Fantasy</td>\n",
       "      <td>58</td>\n",
       "      <td>5.0</td>\n",
       "      <td>6303</td>\n",
       "    </tr>\n",
       "    <tr>\n",
       "      <th>4</th>\n",
       "      <td>1</td>\n",
       "      <td>Toy Story (1995)</td>\n",
       "      <td>Adventure|Animation|Children|Comedy|Fantasy</td>\n",
       "      <td>91</td>\n",
       "      <td>4.0</td>\n",
       "      <td>6303</td>\n",
       "    </tr>\n",
       "  </tbody>\n",
       "</table>\n",
       "</div>"
      ],
      "text/plain": [
       "   movieId             title                                       genres  \\\n",
       "0        1  Toy Story (1995)  Adventure|Animation|Children|Comedy|Fantasy   \n",
       "1        1  Toy Story (1995)  Adventure|Animation|Children|Comedy|Fantasy   \n",
       "2        1  Toy Story (1995)  Adventure|Animation|Children|Comedy|Fantasy   \n",
       "3        1  Toy Story (1995)  Adventure|Animation|Children|Comedy|Fantasy   \n",
       "4        1  Toy Story (1995)  Adventure|Animation|Children|Comedy|Fantasy   \n",
       "\n",
       "   userId  rating  number of rating  \n",
       "0      11     4.5              6303  \n",
       "1      24     4.0              6303  \n",
       "2      54     4.0              6303  \n",
       "3      58     5.0              6303  \n",
       "4      91     4.0              6303  "
      ]
     },
     "execution_count": 26,
     "metadata": {},
     "output_type": "execute_result"
    }
   ],
   "source": [
    "df.head()"
   ]
  },
  {
   "cell_type": "code",
   "execution_count": 27,
   "metadata": {
    "execution": {
     "iopub.execute_input": "2023-12-09T14:09:17.919394Z",
     "iopub.status.busy": "2023-12-09T14:09:17.918982Z",
     "iopub.status.idle": "2023-12-09T14:09:18.500109Z",
     "shell.execute_reply": "2023-12-09T14:09:18.498668Z",
     "shell.execute_reply.started": "2023-12-09T14:09:17.919356Z"
    }
   },
   "outputs": [],
   "source": [
    "df=df[df['number of rating']>=50] #selecting valuable books by ratings"
   ]
  },
  {
   "cell_type": "code",
   "execution_count": 28,
   "metadata": {
    "execution": {
     "iopub.execute_input": "2023-12-09T14:09:18.502607Z",
     "iopub.status.busy": "2023-12-09T14:09:18.502147Z",
     "iopub.status.idle": "2023-12-09T14:09:20.890937Z",
     "shell.execute_reply": "2023-12-09T14:09:20.889434Z",
     "shell.execute_reply.started": "2023-12-09T14:09:18.502566Z"
    }
   },
   "outputs": [],
   "source": [
    "df.drop_duplicates(['title','userId'],inplace=True)"
   ]
  },
  {
   "cell_type": "code",
   "execution_count": 29,
   "metadata": {
    "execution": {
     "iopub.execute_input": "2023-12-09T14:09:20.892925Z",
     "iopub.status.busy": "2023-12-09T14:09:20.892564Z",
     "iopub.status.idle": "2023-12-09T14:09:20.900726Z",
     "shell.execute_reply": "2023-12-09T14:09:20.899310Z",
     "shell.execute_reply.started": "2023-12-09T14:09:20.892889Z"
    }
   },
   "outputs": [
    {
     "data": {
      "text/plain": [
       "(6396971, 6)"
      ]
     },
     "execution_count": 29,
     "metadata": {},
     "output_type": "execute_result"
    }
   ],
   "source": [
    "df.shape"
   ]
  },
  {
   "cell_type": "code",
   "execution_count": 30,
   "metadata": {
    "execution": {
     "iopub.execute_input": "2023-12-09T14:09:20.903162Z",
     "iopub.status.busy": "2023-12-09T14:09:20.902754Z",
     "iopub.status.idle": "2023-12-09T14:09:20.921537Z",
     "shell.execute_reply": "2023-12-09T14:09:20.920515Z",
     "shell.execute_reply.started": "2023-12-09T14:09:20.903120Z"
    }
   },
   "outputs": [
    {
     "data": {
      "text/html": [
       "<div>\n",
       "<style scoped>\n",
       "    .dataframe tbody tr th:only-of-type {\n",
       "        vertical-align: middle;\n",
       "    }\n",
       "\n",
       "    .dataframe tbody tr th {\n",
       "        vertical-align: top;\n",
       "    }\n",
       "\n",
       "    .dataframe thead th {\n",
       "        text-align: right;\n",
       "    }\n",
       "</style>\n",
       "<table border=\"1\" class=\"dataframe\">\n",
       "  <thead>\n",
       "    <tr style=\"text-align: right;\">\n",
       "      <th></th>\n",
       "      <th>movieId</th>\n",
       "      <th>title</th>\n",
       "      <th>genres</th>\n",
       "      <th>userId</th>\n",
       "      <th>rating</th>\n",
       "      <th>number of rating</th>\n",
       "    </tr>\n",
       "  </thead>\n",
       "  <tbody>\n",
       "    <tr>\n",
       "      <th>0</th>\n",
       "      <td>1</td>\n",
       "      <td>Toy Story (1995)</td>\n",
       "      <td>Adventure|Animation|Children|Comedy|Fantasy</td>\n",
       "      <td>11</td>\n",
       "      <td>4.5</td>\n",
       "      <td>6303</td>\n",
       "    </tr>\n",
       "    <tr>\n",
       "      <th>1</th>\n",
       "      <td>1</td>\n",
       "      <td>Toy Story (1995)</td>\n",
       "      <td>Adventure|Animation|Children|Comedy|Fantasy</td>\n",
       "      <td>24</td>\n",
       "      <td>4.0</td>\n",
       "      <td>6303</td>\n",
       "    </tr>\n",
       "    <tr>\n",
       "      <th>2</th>\n",
       "      <td>1</td>\n",
       "      <td>Toy Story (1995)</td>\n",
       "      <td>Adventure|Animation|Children|Comedy|Fantasy</td>\n",
       "      <td>54</td>\n",
       "      <td>4.0</td>\n",
       "      <td>6303</td>\n",
       "    </tr>\n",
       "    <tr>\n",
       "      <th>3</th>\n",
       "      <td>1</td>\n",
       "      <td>Toy Story (1995)</td>\n",
       "      <td>Adventure|Animation|Children|Comedy|Fantasy</td>\n",
       "      <td>58</td>\n",
       "      <td>5.0</td>\n",
       "      <td>6303</td>\n",
       "    </tr>\n",
       "    <tr>\n",
       "      <th>4</th>\n",
       "      <td>1</td>\n",
       "      <td>Toy Story (1995)</td>\n",
       "      <td>Adventure|Animation|Children|Comedy|Fantasy</td>\n",
       "      <td>91</td>\n",
       "      <td>4.0</td>\n",
       "      <td>6303</td>\n",
       "    </tr>\n",
       "  </tbody>\n",
       "</table>\n",
       "</div>"
      ],
      "text/plain": [
       "   movieId             title                                       genres  \\\n",
       "0        1  Toy Story (1995)  Adventure|Animation|Children|Comedy|Fantasy   \n",
       "1        1  Toy Story (1995)  Adventure|Animation|Children|Comedy|Fantasy   \n",
       "2        1  Toy Story (1995)  Adventure|Animation|Children|Comedy|Fantasy   \n",
       "3        1  Toy Story (1995)  Adventure|Animation|Children|Comedy|Fantasy   \n",
       "4        1  Toy Story (1995)  Adventure|Animation|Children|Comedy|Fantasy   \n",
       "\n",
       "   userId  rating  number of rating  \n",
       "0      11     4.5              6303  \n",
       "1      24     4.0              6303  \n",
       "2      54     4.0              6303  \n",
       "3      58     5.0              6303  \n",
       "4      91     4.0              6303  "
      ]
     },
     "execution_count": 30,
     "metadata": {},
     "output_type": "execute_result"
    }
   ],
   "source": [
    "df.head()"
   ]
  },
  {
   "cell_type": "code",
   "execution_count": 31,
   "metadata": {
    "execution": {
     "iopub.execute_input": "2023-12-09T14:09:20.926047Z",
     "iopub.status.busy": "2023-12-09T14:09:20.925632Z",
     "iopub.status.idle": "2023-12-09T14:09:21.167895Z",
     "shell.execute_reply": "2023-12-09T14:09:21.165760Z",
     "shell.execute_reply.started": "2023-12-09T14:09:20.926009Z"
    }
   },
   "outputs": [],
   "source": [
    "df.drop(columns=['number of rating'],inplace=True)"
   ]
  },
  {
   "cell_type": "code",
   "execution_count": 32,
   "metadata": {
    "execution": {
     "iopub.execute_input": "2023-12-09T14:09:21.170740Z",
     "iopub.status.busy": "2023-12-09T14:09:21.170288Z",
     "iopub.status.idle": "2023-12-09T14:09:21.188558Z",
     "shell.execute_reply": "2023-12-09T14:09:21.186594Z",
     "shell.execute_reply.started": "2023-12-09T14:09:21.170700Z"
    }
   },
   "outputs": [
    {
     "data": {
      "text/html": [
       "<div>\n",
       "<style scoped>\n",
       "    .dataframe tbody tr th:only-of-type {\n",
       "        vertical-align: middle;\n",
       "    }\n",
       "\n",
       "    .dataframe tbody tr th {\n",
       "        vertical-align: top;\n",
       "    }\n",
       "\n",
       "    .dataframe thead th {\n",
       "        text-align: right;\n",
       "    }\n",
       "</style>\n",
       "<table border=\"1\" class=\"dataframe\">\n",
       "  <thead>\n",
       "    <tr style=\"text-align: right;\">\n",
       "      <th></th>\n",
       "      <th>movieId</th>\n",
       "      <th>title</th>\n",
       "      <th>genres</th>\n",
       "      <th>userId</th>\n",
       "      <th>rating</th>\n",
       "    </tr>\n",
       "  </thead>\n",
       "  <tbody>\n",
       "    <tr>\n",
       "      <th>0</th>\n",
       "      <td>1</td>\n",
       "      <td>Toy Story (1995)</td>\n",
       "      <td>Adventure|Animation|Children|Comedy|Fantasy</td>\n",
       "      <td>11</td>\n",
       "      <td>4.5</td>\n",
       "    </tr>\n",
       "    <tr>\n",
       "      <th>1</th>\n",
       "      <td>1</td>\n",
       "      <td>Toy Story (1995)</td>\n",
       "      <td>Adventure|Animation|Children|Comedy|Fantasy</td>\n",
       "      <td>24</td>\n",
       "      <td>4.0</td>\n",
       "    </tr>\n",
       "    <tr>\n",
       "      <th>2</th>\n",
       "      <td>1</td>\n",
       "      <td>Toy Story (1995)</td>\n",
       "      <td>Adventure|Animation|Children|Comedy|Fantasy</td>\n",
       "      <td>54</td>\n",
       "      <td>4.0</td>\n",
       "    </tr>\n",
       "    <tr>\n",
       "      <th>3</th>\n",
       "      <td>1</td>\n",
       "      <td>Toy Story (1995)</td>\n",
       "      <td>Adventure|Animation|Children|Comedy|Fantasy</td>\n",
       "      <td>58</td>\n",
       "      <td>5.0</td>\n",
       "    </tr>\n",
       "    <tr>\n",
       "      <th>4</th>\n",
       "      <td>1</td>\n",
       "      <td>Toy Story (1995)</td>\n",
       "      <td>Adventure|Animation|Children|Comedy|Fantasy</td>\n",
       "      <td>91</td>\n",
       "      <td>4.0</td>\n",
       "    </tr>\n",
       "  </tbody>\n",
       "</table>\n",
       "</div>"
      ],
      "text/plain": [
       "   movieId             title                                       genres  \\\n",
       "0        1  Toy Story (1995)  Adventure|Animation|Children|Comedy|Fantasy   \n",
       "1        1  Toy Story (1995)  Adventure|Animation|Children|Comedy|Fantasy   \n",
       "2        1  Toy Story (1995)  Adventure|Animation|Children|Comedy|Fantasy   \n",
       "3        1  Toy Story (1995)  Adventure|Animation|Children|Comedy|Fantasy   \n",
       "4        1  Toy Story (1995)  Adventure|Animation|Children|Comedy|Fantasy   \n",
       "\n",
       "   userId  rating  \n",
       "0      11     4.5  \n",
       "1      24     4.0  \n",
       "2      54     4.0  \n",
       "3      58     5.0  \n",
       "4      91     4.0  "
      ]
     },
     "execution_count": 32,
     "metadata": {},
     "output_type": "execute_result"
    }
   ],
   "source": [
    "df.head()"
   ]
  },
  {
   "cell_type": "code",
   "execution_count": 33,
   "metadata": {
    "execution": {
     "iopub.execute_input": "2023-12-09T14:09:21.191572Z",
     "iopub.status.busy": "2023-12-09T14:09:21.190917Z",
     "iopub.status.idle": "2023-12-09T14:09:21.262166Z",
     "shell.execute_reply": "2023-12-09T14:09:21.260785Z",
     "shell.execute_reply.started": "2023-12-09T14:09:21.191502Z"
    }
   },
   "outputs": [],
   "source": [
    "df['rating']=df['rating'].astype(int)"
   ]
  },
  {
   "cell_type": "code",
   "execution_count": 34,
   "metadata": {
    "execution": {
     "iopub.execute_input": "2023-12-09T14:09:21.264245Z",
     "iopub.status.busy": "2023-12-09T14:09:21.263864Z",
     "iopub.status.idle": "2023-12-09T14:09:21.281441Z",
     "shell.execute_reply": "2023-12-09T14:09:21.280014Z",
     "shell.execute_reply.started": "2023-12-09T14:09:21.264207Z"
    }
   },
   "outputs": [
    {
     "data": {
      "text/html": [
       "<div>\n",
       "<style scoped>\n",
       "    .dataframe tbody tr th:only-of-type {\n",
       "        vertical-align: middle;\n",
       "    }\n",
       "\n",
       "    .dataframe tbody tr th {\n",
       "        vertical-align: top;\n",
       "    }\n",
       "\n",
       "    .dataframe thead th {\n",
       "        text-align: right;\n",
       "    }\n",
       "</style>\n",
       "<table border=\"1\" class=\"dataframe\">\n",
       "  <thead>\n",
       "    <tr style=\"text-align: right;\">\n",
       "      <th></th>\n",
       "      <th>movieId</th>\n",
       "      <th>title</th>\n",
       "      <th>genres</th>\n",
       "      <th>userId</th>\n",
       "      <th>rating</th>\n",
       "    </tr>\n",
       "  </thead>\n",
       "  <tbody>\n",
       "    <tr>\n",
       "      <th>0</th>\n",
       "      <td>1</td>\n",
       "      <td>Toy Story (1995)</td>\n",
       "      <td>Adventure|Animation|Children|Comedy|Fantasy</td>\n",
       "      <td>11</td>\n",
       "      <td>4</td>\n",
       "    </tr>\n",
       "    <tr>\n",
       "      <th>1</th>\n",
       "      <td>1</td>\n",
       "      <td>Toy Story (1995)</td>\n",
       "      <td>Adventure|Animation|Children|Comedy|Fantasy</td>\n",
       "      <td>24</td>\n",
       "      <td>4</td>\n",
       "    </tr>\n",
       "    <tr>\n",
       "      <th>2</th>\n",
       "      <td>1</td>\n",
       "      <td>Toy Story (1995)</td>\n",
       "      <td>Adventure|Animation|Children|Comedy|Fantasy</td>\n",
       "      <td>54</td>\n",
       "      <td>4</td>\n",
       "    </tr>\n",
       "    <tr>\n",
       "      <th>3</th>\n",
       "      <td>1</td>\n",
       "      <td>Toy Story (1995)</td>\n",
       "      <td>Adventure|Animation|Children|Comedy|Fantasy</td>\n",
       "      <td>58</td>\n",
       "      <td>5</td>\n",
       "    </tr>\n",
       "    <tr>\n",
       "      <th>4</th>\n",
       "      <td>1</td>\n",
       "      <td>Toy Story (1995)</td>\n",
       "      <td>Adventure|Animation|Children|Comedy|Fantasy</td>\n",
       "      <td>91</td>\n",
       "      <td>4</td>\n",
       "    </tr>\n",
       "  </tbody>\n",
       "</table>\n",
       "</div>"
      ],
      "text/plain": [
       "   movieId             title                                       genres  \\\n",
       "0        1  Toy Story (1995)  Adventure|Animation|Children|Comedy|Fantasy   \n",
       "1        1  Toy Story (1995)  Adventure|Animation|Children|Comedy|Fantasy   \n",
       "2        1  Toy Story (1995)  Adventure|Animation|Children|Comedy|Fantasy   \n",
       "3        1  Toy Story (1995)  Adventure|Animation|Children|Comedy|Fantasy   \n",
       "4        1  Toy Story (1995)  Adventure|Animation|Children|Comedy|Fantasy   \n",
       "\n",
       "   userId  rating  \n",
       "0      11       4  \n",
       "1      24       4  \n",
       "2      54       4  \n",
       "3      58       5  \n",
       "4      91       4  "
      ]
     },
     "execution_count": 34,
     "metadata": {},
     "output_type": "execute_result"
    }
   ],
   "source": [
    "df.head()"
   ]
  },
  {
   "cell_type": "code",
   "execution_count": 35,
   "metadata": {
    "execution": {
     "iopub.execute_input": "2023-12-09T14:09:21.283649Z",
     "iopub.status.busy": "2023-12-09T14:09:21.283212Z",
     "iopub.status.idle": "2023-12-09T14:09:31.577974Z",
     "shell.execute_reply": "2023-12-09T14:09:31.576852Z",
     "shell.execute_reply.started": "2023-12-09T14:09:21.283612Z"
    }
   },
   "outputs": [],
   "source": [
    "movie_pivot=df.pivot_table(columns='userId',index='title',values='rating')"
   ]
  },
  {
   "cell_type": "code",
   "execution_count": 36,
   "metadata": {
    "execution": {
     "iopub.execute_input": "2023-12-09T14:09:31.580358Z",
     "iopub.status.busy": "2023-12-09T14:09:31.579837Z",
     "iopub.status.idle": "2023-12-09T14:09:31.588287Z",
     "shell.execute_reply": "2023-12-09T14:09:31.586754Z",
     "shell.execute_reply.started": "2023-12-09T14:09:31.580319Z"
    }
   },
   "outputs": [
    {
     "data": {
      "text/plain": [
       "(9359, 7441)"
      ]
     },
     "execution_count": 36,
     "metadata": {},
     "output_type": "execute_result"
    }
   ],
   "source": [
    "movie_pivot.shape"
   ]
  },
  {
   "cell_type": "code",
   "execution_count": 37,
   "metadata": {
    "execution": {
     "iopub.execute_input": "2023-12-09T14:09:36.513880Z",
     "iopub.status.busy": "2023-12-09T14:09:36.513373Z",
     "iopub.status.idle": "2023-12-09T14:09:37.773155Z",
     "shell.execute_reply": "2023-12-09T14:09:37.772160Z",
     "shell.execute_reply.started": "2023-12-09T14:09:36.513839Z"
    }
   },
   "outputs": [],
   "source": [
    "movie_pivot.fillna(0,inplace=True)"
   ]
  },
  {
   "cell_type": "code",
   "execution_count": 38,
   "metadata": {
    "execution": {
     "iopub.execute_input": "2023-12-09T14:09:38.588843Z",
     "iopub.status.busy": "2023-12-09T14:09:38.588202Z",
     "iopub.status.idle": "2023-12-09T14:09:38.638505Z",
     "shell.execute_reply": "2023-12-09T14:09:38.637582Z",
     "shell.execute_reply.started": "2023-12-09T14:09:38.588800Z"
    }
   },
   "outputs": [
    {
     "data": {
      "text/html": [
       "<div>\n",
       "<style scoped>\n",
       "    .dataframe tbody tr th:only-of-type {\n",
       "        vertical-align: middle;\n",
       "    }\n",
       "\n",
       "    .dataframe tbody tr th {\n",
       "        vertical-align: top;\n",
       "    }\n",
       "\n",
       "    .dataframe thead th {\n",
       "        text-align: right;\n",
       "    }\n",
       "</style>\n",
       "<table border=\"1\" class=\"dataframe\">\n",
       "  <thead>\n",
       "    <tr style=\"text-align: right;\">\n",
       "      <th>userId</th>\n",
       "      <th>11</th>\n",
       "      <th>24</th>\n",
       "      <th>54</th>\n",
       "      <th>58</th>\n",
       "      <th>91</th>\n",
       "      <th>104</th>\n",
       "      <th>116</th>\n",
       "      <th>134</th>\n",
       "      <th>156</th>\n",
       "      <th>208</th>\n",
       "      <th>...</th>\n",
       "      <th>138270</th>\n",
       "      <th>138301</th>\n",
       "      <th>138307</th>\n",
       "      <th>138325</th>\n",
       "      <th>138382</th>\n",
       "      <th>138397</th>\n",
       "      <th>138406</th>\n",
       "      <th>138411</th>\n",
       "      <th>138437</th>\n",
       "      <th>138474</th>\n",
       "    </tr>\n",
       "    <tr>\n",
       "      <th>title</th>\n",
       "      <th></th>\n",
       "      <th></th>\n",
       "      <th></th>\n",
       "      <th></th>\n",
       "      <th></th>\n",
       "      <th></th>\n",
       "      <th></th>\n",
       "      <th></th>\n",
       "      <th></th>\n",
       "      <th></th>\n",
       "      <th></th>\n",
       "      <th></th>\n",
       "      <th></th>\n",
       "      <th></th>\n",
       "      <th></th>\n",
       "      <th></th>\n",
       "      <th></th>\n",
       "      <th></th>\n",
       "      <th></th>\n",
       "      <th></th>\n",
       "      <th></th>\n",
       "    </tr>\n",
       "  </thead>\n",
       "  <tbody>\n",
       "    <tr>\n",
       "      <th>'Round Midnight (1986)</th>\n",
       "      <td>0.0</td>\n",
       "      <td>0.0</td>\n",
       "      <td>0.0</td>\n",
       "      <td>0.0</td>\n",
       "      <td>0.0</td>\n",
       "      <td>0.0</td>\n",
       "      <td>0.0</td>\n",
       "      <td>0.0</td>\n",
       "      <td>0.0</td>\n",
       "      <td>0.0</td>\n",
       "      <td>...</td>\n",
       "      <td>0.0</td>\n",
       "      <td>0.0</td>\n",
       "      <td>0.0</td>\n",
       "      <td>0.0</td>\n",
       "      <td>0.0</td>\n",
       "      <td>0.0</td>\n",
       "      <td>0.0</td>\n",
       "      <td>0.0</td>\n",
       "      <td>0.0</td>\n",
       "      <td>0.0</td>\n",
       "    </tr>\n",
       "    <tr>\n",
       "      <th>'Til There Was You (1997)</th>\n",
       "      <td>0.0</td>\n",
       "      <td>0.0</td>\n",
       "      <td>0.0</td>\n",
       "      <td>0.0</td>\n",
       "      <td>0.0</td>\n",
       "      <td>0.0</td>\n",
       "      <td>0.0</td>\n",
       "      <td>0.0</td>\n",
       "      <td>3.0</td>\n",
       "      <td>0.0</td>\n",
       "      <td>...</td>\n",
       "      <td>0.0</td>\n",
       "      <td>0.0</td>\n",
       "      <td>0.0</td>\n",
       "      <td>0.0</td>\n",
       "      <td>0.0</td>\n",
       "      <td>0.0</td>\n",
       "      <td>0.0</td>\n",
       "      <td>0.0</td>\n",
       "      <td>0.0</td>\n",
       "      <td>0.0</td>\n",
       "    </tr>\n",
       "    <tr>\n",
       "      <th>'burbs, The (1989)</th>\n",
       "      <td>0.0</td>\n",
       "      <td>0.0</td>\n",
       "      <td>3.0</td>\n",
       "      <td>0.0</td>\n",
       "      <td>0.0</td>\n",
       "      <td>0.0</td>\n",
       "      <td>0.0</td>\n",
       "      <td>0.0</td>\n",
       "      <td>3.0</td>\n",
       "      <td>0.0</td>\n",
       "      <td>...</td>\n",
       "      <td>0.0</td>\n",
       "      <td>0.0</td>\n",
       "      <td>0.0</td>\n",
       "      <td>0.0</td>\n",
       "      <td>3.0</td>\n",
       "      <td>0.0</td>\n",
       "      <td>0.0</td>\n",
       "      <td>2.0</td>\n",
       "      <td>0.0</td>\n",
       "      <td>4.0</td>\n",
       "    </tr>\n",
       "    <tr>\n",
       "      <th>'night Mother (1986)</th>\n",
       "      <td>0.0</td>\n",
       "      <td>0.0</td>\n",
       "      <td>0.0</td>\n",
       "      <td>0.0</td>\n",
       "      <td>0.0</td>\n",
       "      <td>0.0</td>\n",
       "      <td>0.0</td>\n",
       "      <td>0.0</td>\n",
       "      <td>0.0</td>\n",
       "      <td>0.0</td>\n",
       "      <td>...</td>\n",
       "      <td>0.0</td>\n",
       "      <td>0.0</td>\n",
       "      <td>0.0</td>\n",
       "      <td>0.0</td>\n",
       "      <td>0.0</td>\n",
       "      <td>0.0</td>\n",
       "      <td>0.0</td>\n",
       "      <td>0.0</td>\n",
       "      <td>0.0</td>\n",
       "      <td>0.0</td>\n",
       "    </tr>\n",
       "    <tr>\n",
       "      <th>(500) Days of Summer (2009)</th>\n",
       "      <td>0.0</td>\n",
       "      <td>0.0</td>\n",
       "      <td>0.0</td>\n",
       "      <td>0.0</td>\n",
       "      <td>0.0</td>\n",
       "      <td>0.0</td>\n",
       "      <td>0.0</td>\n",
       "      <td>0.0</td>\n",
       "      <td>0.0</td>\n",
       "      <td>0.0</td>\n",
       "      <td>...</td>\n",
       "      <td>0.0</td>\n",
       "      <td>2.0</td>\n",
       "      <td>0.0</td>\n",
       "      <td>0.0</td>\n",
       "      <td>0.0</td>\n",
       "      <td>0.0</td>\n",
       "      <td>0.0</td>\n",
       "      <td>0.0</td>\n",
       "      <td>4.0</td>\n",
       "      <td>0.0</td>\n",
       "    </tr>\n",
       "    <tr>\n",
       "      <th>...</th>\n",
       "      <td>...</td>\n",
       "      <td>...</td>\n",
       "      <td>...</td>\n",
       "      <td>...</td>\n",
       "      <td>...</td>\n",
       "      <td>...</td>\n",
       "      <td>...</td>\n",
       "      <td>...</td>\n",
       "      <td>...</td>\n",
       "      <td>...</td>\n",
       "      <td>...</td>\n",
       "      <td>...</td>\n",
       "      <td>...</td>\n",
       "      <td>...</td>\n",
       "      <td>...</td>\n",
       "      <td>...</td>\n",
       "      <td>...</td>\n",
       "      <td>...</td>\n",
       "      <td>...</td>\n",
       "      <td>...</td>\n",
       "      <td>...</td>\n",
       "    </tr>\n",
       "    <tr>\n",
       "      <th>loudQUIETloud: A Film About the Pixies (2006)</th>\n",
       "      <td>0.0</td>\n",
       "      <td>0.0</td>\n",
       "      <td>0.0</td>\n",
       "      <td>0.0</td>\n",
       "      <td>0.0</td>\n",
       "      <td>0.0</td>\n",
       "      <td>0.0</td>\n",
       "      <td>0.0</td>\n",
       "      <td>0.0</td>\n",
       "      <td>0.0</td>\n",
       "      <td>...</td>\n",
       "      <td>0.0</td>\n",
       "      <td>0.0</td>\n",
       "      <td>0.0</td>\n",
       "      <td>0.0</td>\n",
       "      <td>0.0</td>\n",
       "      <td>0.0</td>\n",
       "      <td>0.0</td>\n",
       "      <td>0.0</td>\n",
       "      <td>0.0</td>\n",
       "      <td>0.0</td>\n",
       "    </tr>\n",
       "    <tr>\n",
       "      <th>xXx (2002)</th>\n",
       "      <td>0.0</td>\n",
       "      <td>0.0</td>\n",
       "      <td>0.0</td>\n",
       "      <td>0.0</td>\n",
       "      <td>0.0</td>\n",
       "      <td>0.0</td>\n",
       "      <td>2.0</td>\n",
       "      <td>0.0</td>\n",
       "      <td>0.0</td>\n",
       "      <td>0.0</td>\n",
       "      <td>...</td>\n",
       "      <td>0.0</td>\n",
       "      <td>0.0</td>\n",
       "      <td>0.0</td>\n",
       "      <td>0.0</td>\n",
       "      <td>0.0</td>\n",
       "      <td>4.0</td>\n",
       "      <td>0.0</td>\n",
       "      <td>0.0</td>\n",
       "      <td>0.0</td>\n",
       "      <td>0.0</td>\n",
       "    </tr>\n",
       "    <tr>\n",
       "      <th>xXx: State of the Union (2005)</th>\n",
       "      <td>0.0</td>\n",
       "      <td>0.0</td>\n",
       "      <td>0.0</td>\n",
       "      <td>0.0</td>\n",
       "      <td>0.0</td>\n",
       "      <td>0.0</td>\n",
       "      <td>0.0</td>\n",
       "      <td>0.0</td>\n",
       "      <td>0.0</td>\n",
       "      <td>0.0</td>\n",
       "      <td>...</td>\n",
       "      <td>0.0</td>\n",
       "      <td>0.0</td>\n",
       "      <td>0.0</td>\n",
       "      <td>0.0</td>\n",
       "      <td>0.0</td>\n",
       "      <td>0.0</td>\n",
       "      <td>0.0</td>\n",
       "      <td>0.0</td>\n",
       "      <td>0.0</td>\n",
       "      <td>0.0</td>\n",
       "    </tr>\n",
       "    <tr>\n",
       "      <th>¡Three Amigos! (1986)</th>\n",
       "      <td>0.0</td>\n",
       "      <td>0.0</td>\n",
       "      <td>3.0</td>\n",
       "      <td>0.0</td>\n",
       "      <td>0.0</td>\n",
       "      <td>0.0</td>\n",
       "      <td>0.0</td>\n",
       "      <td>0.0</td>\n",
       "      <td>0.0</td>\n",
       "      <td>3.0</td>\n",
       "      <td>...</td>\n",
       "      <td>0.0</td>\n",
       "      <td>0.0</td>\n",
       "      <td>0.0</td>\n",
       "      <td>0.0</td>\n",
       "      <td>1.0</td>\n",
       "      <td>3.0</td>\n",
       "      <td>0.0</td>\n",
       "      <td>3.0</td>\n",
       "      <td>4.0</td>\n",
       "      <td>0.0</td>\n",
       "    </tr>\n",
       "    <tr>\n",
       "      <th>À nous la liberté (Freedom for Us) (1931)</th>\n",
       "      <td>0.0</td>\n",
       "      <td>0.0</td>\n",
       "      <td>0.0</td>\n",
       "      <td>0.0</td>\n",
       "      <td>0.0</td>\n",
       "      <td>0.0</td>\n",
       "      <td>0.0</td>\n",
       "      <td>0.0</td>\n",
       "      <td>0.0</td>\n",
       "      <td>0.0</td>\n",
       "      <td>...</td>\n",
       "      <td>0.0</td>\n",
       "      <td>4.0</td>\n",
       "      <td>0.0</td>\n",
       "      <td>4.0</td>\n",
       "      <td>0.0</td>\n",
       "      <td>0.0</td>\n",
       "      <td>3.0</td>\n",
       "      <td>0.0</td>\n",
       "      <td>0.0</td>\n",
       "      <td>0.0</td>\n",
       "    </tr>\n",
       "  </tbody>\n",
       "</table>\n",
       "<p>9359 rows × 7441 columns</p>\n",
       "</div>"
      ],
      "text/plain": [
       "userId                                         11      24      54      58      \\\n",
       "title                                                                           \n",
       "'Round Midnight (1986)                            0.0     0.0     0.0     0.0   \n",
       "'Til There Was You (1997)                         0.0     0.0     0.0     0.0   \n",
       "'burbs, The (1989)                                0.0     0.0     3.0     0.0   \n",
       "'night Mother (1986)                              0.0     0.0     0.0     0.0   \n",
       "(500) Days of Summer (2009)                       0.0     0.0     0.0     0.0   \n",
       "...                                               ...     ...     ...     ...   \n",
       "loudQUIETloud: A Film About the Pixies (2006)     0.0     0.0     0.0     0.0   \n",
       "xXx (2002)                                        0.0     0.0     0.0     0.0   \n",
       "xXx: State of the Union (2005)                    0.0     0.0     0.0     0.0   \n",
       "¡Three Amigos! (1986)                             0.0     0.0     3.0     0.0   \n",
       "À nous la liberté (Freedom for Us) (1931)         0.0     0.0     0.0     0.0   \n",
       "\n",
       "userId                                         91      104     116     134     \\\n",
       "title                                                                           \n",
       "'Round Midnight (1986)                            0.0     0.0     0.0     0.0   \n",
       "'Til There Was You (1997)                         0.0     0.0     0.0     0.0   \n",
       "'burbs, The (1989)                                0.0     0.0     0.0     0.0   \n",
       "'night Mother (1986)                              0.0     0.0     0.0     0.0   \n",
       "(500) Days of Summer (2009)                       0.0     0.0     0.0     0.0   \n",
       "...                                               ...     ...     ...     ...   \n",
       "loudQUIETloud: A Film About the Pixies (2006)     0.0     0.0     0.0     0.0   \n",
       "xXx (2002)                                        0.0     0.0     2.0     0.0   \n",
       "xXx: State of the Union (2005)                    0.0     0.0     0.0     0.0   \n",
       "¡Three Amigos! (1986)                             0.0     0.0     0.0     0.0   \n",
       "À nous la liberté (Freedom for Us) (1931)         0.0     0.0     0.0     0.0   \n",
       "\n",
       "userId                                         156     208     ...  138270  \\\n",
       "title                                                          ...           \n",
       "'Round Midnight (1986)                            0.0     0.0  ...     0.0   \n",
       "'Til There Was You (1997)                         3.0     0.0  ...     0.0   \n",
       "'burbs, The (1989)                                3.0     0.0  ...     0.0   \n",
       "'night Mother (1986)                              0.0     0.0  ...     0.0   \n",
       "(500) Days of Summer (2009)                       0.0     0.0  ...     0.0   \n",
       "...                                               ...     ...  ...     ...   \n",
       "loudQUIETloud: A Film About the Pixies (2006)     0.0     0.0  ...     0.0   \n",
       "xXx (2002)                                        0.0     0.0  ...     0.0   \n",
       "xXx: State of the Union (2005)                    0.0     0.0  ...     0.0   \n",
       "¡Three Amigos! (1986)                             0.0     3.0  ...     0.0   \n",
       "À nous la liberté (Freedom for Us) (1931)         0.0     0.0  ...     0.0   \n",
       "\n",
       "userId                                         138301  138307  138325  138382  \\\n",
       "title                                                                           \n",
       "'Round Midnight (1986)                            0.0     0.0     0.0     0.0   \n",
       "'Til There Was You (1997)                         0.0     0.0     0.0     0.0   \n",
       "'burbs, The (1989)                                0.0     0.0     0.0     3.0   \n",
       "'night Mother (1986)                              0.0     0.0     0.0     0.0   \n",
       "(500) Days of Summer (2009)                       2.0     0.0     0.0     0.0   \n",
       "...                                               ...     ...     ...     ...   \n",
       "loudQUIETloud: A Film About the Pixies (2006)     0.0     0.0     0.0     0.0   \n",
       "xXx (2002)                                        0.0     0.0     0.0     0.0   \n",
       "xXx: State of the Union (2005)                    0.0     0.0     0.0     0.0   \n",
       "¡Three Amigos! (1986)                             0.0     0.0     0.0     1.0   \n",
       "À nous la liberté (Freedom for Us) (1931)         4.0     0.0     4.0     0.0   \n",
       "\n",
       "userId                                         138397  138406  138411  138437  \\\n",
       "title                                                                           \n",
       "'Round Midnight (1986)                            0.0     0.0     0.0     0.0   \n",
       "'Til There Was You (1997)                         0.0     0.0     0.0     0.0   \n",
       "'burbs, The (1989)                                0.0     0.0     2.0     0.0   \n",
       "'night Mother (1986)                              0.0     0.0     0.0     0.0   \n",
       "(500) Days of Summer (2009)                       0.0     0.0     0.0     4.0   \n",
       "...                                               ...     ...     ...     ...   \n",
       "loudQUIETloud: A Film About the Pixies (2006)     0.0     0.0     0.0     0.0   \n",
       "xXx (2002)                                        4.0     0.0     0.0     0.0   \n",
       "xXx: State of the Union (2005)                    0.0     0.0     0.0     0.0   \n",
       "¡Three Amigos! (1986)                             3.0     0.0     3.0     4.0   \n",
       "À nous la liberté (Freedom for Us) (1931)         0.0     3.0     0.0     0.0   \n",
       "\n",
       "userId                                         138474  \n",
       "title                                                  \n",
       "'Round Midnight (1986)                            0.0  \n",
       "'Til There Was You (1997)                         0.0  \n",
       "'burbs, The (1989)                                4.0  \n",
       "'night Mother (1986)                              0.0  \n",
       "(500) Days of Summer (2009)                       0.0  \n",
       "...                                               ...  \n",
       "loudQUIETloud: A Film About the Pixies (2006)     0.0  \n",
       "xXx (2002)                                        0.0  \n",
       "xXx: State of the Union (2005)                    0.0  \n",
       "¡Three Amigos! (1986)                             0.0  \n",
       "À nous la liberté (Freedom for Us) (1931)         0.0  \n",
       "\n",
       "[9359 rows x 7441 columns]"
      ]
     },
     "execution_count": 38,
     "metadata": {},
     "output_type": "execute_result"
    }
   ],
   "source": [
    "movie_pivot"
   ]
  },
  {
   "cell_type": "code",
   "execution_count": 39,
   "metadata": {
    "execution": {
     "iopub.execute_input": "2023-12-09T14:09:41.433294Z",
     "iopub.status.busy": "2023-12-09T14:09:41.432849Z",
     "iopub.status.idle": "2023-12-09T14:09:42.623478Z",
     "shell.execute_reply": "2023-12-09T14:09:42.621975Z",
     "shell.execute_reply.started": "2023-12-09T14:09:41.433236Z"
    }
   },
   "outputs": [],
   "source": [
    "from scipy.sparse import csr_matrix\n",
    "movie_sparse=csr_matrix(movie_pivot)"
   ]
  },
  {
   "cell_type": "code",
   "execution_count": 40,
   "metadata": {
    "execution": {
     "iopub.execute_input": "2023-12-09T14:09:58.578823Z",
     "iopub.status.busy": "2023-12-09T14:09:58.578375Z",
     "iopub.status.idle": "2023-12-09T14:09:59.748117Z",
     "shell.execute_reply": "2023-12-09T14:09:59.747034Z",
     "shell.execute_reply.started": "2023-12-09T14:09:58.578785Z"
    }
   },
   "outputs": [],
   "source": [
    "\n",
    "\n",
    "from sklearn.neighbors import NearestNeighbors\n",
    "model=NearestNeighbors( n_neighbors=7,algorithm='brute',metric='cosine')"
   ]
  },
  {
   "cell_type": "code",
   "execution_count": 41,
   "metadata": {
    "execution": {
     "iopub.execute_input": "2023-12-09T14:10:00.289039Z",
     "iopub.status.busy": "2023-12-09T14:10:00.288512Z",
     "iopub.status.idle": "2023-12-09T14:10:00.360791Z",
     "shell.execute_reply": "2023-12-09T14:10:00.359004Z",
     "shell.execute_reply.started": "2023-12-09T14:10:00.288999Z"
    }
   },
   "outputs": [
    {
     "data": {
      "text/plain": [
       "NearestNeighbors(algorithm='brute', metric='cosine', n_neighbors=7)"
      ]
     },
     "execution_count": 41,
     "metadata": {},
     "output_type": "execute_result"
    }
   ],
   "source": [
    "model.fit(movie_sparse)"
   ]
  },
  {
   "cell_type": "code",
   "execution_count": 42,
   "metadata": {
    "execution": {
     "iopub.execute_input": "2023-12-09T14:10:02.839138Z",
     "iopub.status.busy": "2023-12-09T14:10:02.838684Z",
     "iopub.status.idle": "2023-12-09T14:10:02.964548Z",
     "shell.execute_reply": "2023-12-09T14:10:02.963101Z",
     "shell.execute_reply.started": "2023-12-09T14:10:02.839099Z"
    }
   },
   "outputs": [],
   "source": [
    "df.drop(columns=['genres','userId','rating'],inplace=True)"
   ]
  },
  {
   "cell_type": "code",
   "execution_count": 43,
   "metadata": {
    "execution": {
     "iopub.execute_input": "2023-12-09T14:10:04.379222Z",
     "iopub.status.busy": "2023-12-09T14:10:04.378740Z",
     "iopub.status.idle": "2023-12-09T14:10:05.397347Z",
     "shell.execute_reply": "2023-12-09T14:10:05.395313Z",
     "shell.execute_reply.started": "2023-12-09T14:10:04.379177Z"
    }
   },
   "outputs": [],
   "source": [
    "df.drop_duplicates(inplace=True)"
   ]
  },
  {
   "cell_type": "code",
   "execution_count": 44,
   "metadata": {
    "execution": {
     "iopub.execute_input": "2023-12-09T14:10:06.221337Z",
     "iopub.status.busy": "2023-12-09T14:10:06.220829Z",
     "iopub.status.idle": "2023-12-09T14:10:06.559813Z",
     "shell.execute_reply": "2023-12-09T14:10:06.558194Z",
     "shell.execute_reply.started": "2023-12-09T14:10:06.221294Z"
    }
   },
   "outputs": [],
   "source": [
    "df.to_csv('codf.csv',index=False)"
   ]
  },
  {
   "cell_type": "code",
   "execution_count": 45,
   "metadata": {
    "execution": {
     "iopub.execute_input": "2023-12-09T14:10:07.558981Z",
     "iopub.status.busy": "2023-12-09T14:10:07.558498Z",
     "iopub.status.idle": "2023-12-09T14:10:07.674441Z",
     "shell.execute_reply": "2023-12-09T14:10:07.672977Z",
     "shell.execute_reply.started": "2023-12-09T14:10:07.558940Z"
    }
   },
   "outputs": [],
   "source": [
    "distances,suggestions=model.kneighbors(movie_pivot.iloc[540,:].values.reshape(1,-1))"
   ]
  },
  {
   "cell_type": "code",
   "execution_count": 46,
   "metadata": {
    "execution": {
     "iopub.execute_input": "2023-12-09T14:10:09.659650Z",
     "iopub.status.busy": "2023-12-09T14:10:09.659140Z",
     "iopub.status.idle": "2023-12-09T14:10:09.669395Z",
     "shell.execute_reply": "2023-12-09T14:10:09.667775Z",
     "shell.execute_reply.started": "2023-12-09T14:10:09.659610Z"
    }
   },
   "outputs": [
    {
     "data": {
      "text/plain": [
       "array([[4.44089210e-16, 7.42246328e-01, 7.57713782e-01, 7.70884163e-01,\n",
       "        7.90774536e-01, 7.93849736e-01, 7.93911073e-01]])"
      ]
     },
     "execution_count": 46,
     "metadata": {},
     "output_type": "execute_result"
    }
   ],
   "source": [
    "distances"
   ]
  },
  {
   "cell_type": "code",
   "execution_count": 47,
   "metadata": {
    "execution": {
     "iopub.execute_input": "2023-12-09T14:10:15.624222Z",
     "iopub.status.busy": "2023-12-09T14:10:15.623675Z",
     "iopub.status.idle": "2023-12-09T14:10:15.633999Z",
     "shell.execute_reply": "2023-12-09T14:10:15.632082Z",
     "shell.execute_reply.started": "2023-12-09T14:10:15.624167Z"
    }
   },
   "outputs": [
    {
     "data": {
      "text/plain": [
       "array([[ 540, 6149, 8407, 3888,  672, 6732, 6057]])"
      ]
     },
     "execution_count": 47,
     "metadata": {},
     "output_type": "execute_result"
    }
   ],
   "source": [
    "suggestions"
   ]
  },
  {
   "cell_type": "code",
   "execution_count": 48,
   "metadata": {
    "execution": {
     "iopub.execute_input": "2023-12-09T14:10:18.020369Z",
     "iopub.status.busy": "2023-12-09T14:10:18.019899Z",
     "iopub.status.idle": "2023-12-09T14:10:18.039360Z",
     "shell.execute_reply": "2023-12-09T14:10:18.037986Z",
     "shell.execute_reply.started": "2023-12-09T14:10:18.020327Z"
    }
   },
   "outputs": [],
   "source": [
    "df1=df.copy()\n",
    "ti=[]\n",
    "for i in df1['title']:\n",
    "    ti.append(i.split(' (')[0])\n",
    "df1['title']=ti"
   ]
  },
  {
   "cell_type": "code",
   "execution_count": 49,
   "metadata": {
    "execution": {
     "iopub.execute_input": "2023-12-09T14:10:32.153726Z",
     "iopub.status.busy": "2023-12-09T14:10:32.153223Z",
     "iopub.status.idle": "2023-12-09T14:10:32.163816Z",
     "shell.execute_reply": "2023-12-09T14:10:32.161773Z",
     "shell.execute_reply.started": "2023-12-09T14:10:32.153673Z"
    }
   },
   "outputs": [
    {
     "name": "stdout",
     "output_type": "stream",
     "text": [
      "Index(['Article 99 (1992)', 'One Good Cop (1991)', 'Thunderheart (1992)',\n",
      "       'Hooper (1978)', 'Bad Influence (1990)', 'Q & A (1990)', 'Nuts (1987)'],\n",
      "      dtype='object', name='title')\n"
     ]
    }
   ],
   "source": [
    "\n",
    "\n",
    "for i in range(len(suggestions)):\n",
    "    print(movie_pivot.index[suggestions[i]])\n"
   ]
  },
  {
   "cell_type": "code",
   "execution_count": 50,
   "metadata": {
    "execution": {
     "iopub.execute_input": "2023-12-09T14:10:34.389127Z",
     "iopub.status.busy": "2023-12-09T14:10:34.388636Z",
     "iopub.status.idle": "2023-12-09T14:10:34.401322Z",
     "shell.execute_reply": "2023-12-09T14:10:34.399696Z",
     "shell.execute_reply.started": "2023-12-09T14:10:34.389089Z"
    }
   },
   "outputs": [],
   "source": [
    "def reco(movie_name):\n",
    "    movie_id=df1[df1['title']=='Toy Story'].drop_duplicates('title')['movieId'].values[0]\n",
    "    distances,suggestions=model.kneighbors(movie_pivot.iloc[movie_id,:].values.reshape(1,-1))\n",
    "    \n",
    "    \n",
    "    \n",
    "    for i in range(len(suggestions)):\n",
    "        return (movie_pivot.index[suggestions[i]])\n",
    "\n"
   ]
  },
  {
   "cell_type": "code",
   "execution_count": 51,
   "metadata": {
    "execution": {
     "iopub.execute_input": "2023-12-09T14:10:37.200416Z",
     "iopub.status.busy": "2023-12-09T14:10:37.199587Z",
     "iopub.status.idle": "2023-12-09T14:10:37.293055Z",
     "shell.execute_reply": "2023-12-09T14:10:37.291732Z",
     "shell.execute_reply.started": "2023-12-09T14:10:37.200352Z"
    }
   },
   "outputs": [],
   "source": [
    "res=reco(\"It Conquered the World\")"
   ]
  },
  {
   "cell_type": "code",
   "execution_count": 52,
   "metadata": {
    "execution": {
     "iopub.execute_input": "2023-12-09T14:10:39.853821Z",
     "iopub.status.busy": "2023-12-09T14:10:39.853417Z",
     "iopub.status.idle": "2023-12-09T14:10:39.862085Z",
     "shell.execute_reply": "2023-12-09T14:10:39.860701Z",
     "shell.execute_reply.started": "2023-12-09T14:10:39.853787Z"
    }
   },
   "outputs": [
    {
     "name": "stdout",
     "output_type": "stream",
     "text": [
      "'Til There Was You (1997)\n",
      "MatchMaker, The (1997)\n",
      "Evening Star, The (1996)\n",
      "To Gillian on Her 37th Birthday (1996)\n",
      "Only You (1994)\n",
      "Mrs. Winterbourne (1996)\n",
      "Picture Perfect (1997)\n"
     ]
    }
   ],
   "source": [
    "for i in res:\n",
    "    print(i)"
   ]
  }
 ],
 "metadata": {
  "kaggle": {
   "accelerator": "none",
   "dataSources": [
    {
     "datasetId": 339,
     "sourceId": 77759,
     "sourceType": "datasetVersion"
    }
   ],
   "dockerImageVersionId": 29962,
   "isGpuEnabled": false,
   "isInternetEnabled": false,
   "language": "python",
   "sourceType": "notebook"
  },
  "kernelspec": {
   "display_name": "Python 3 (ipykernel)",
   "language": "python",
   "name": "python3"
  },
  "language_info": {
   "codemirror_mode": {
    "name": "ipython",
    "version": 3
   },
   "file_extension": ".py",
   "mimetype": "text/x-python",
   "name": "python",
   "nbconvert_exporter": "python",
   "pygments_lexer": "ipython3",
   "version": "3.9.13"
  }
 },
 "nbformat": 4,
 "nbformat_minor": 4
}
